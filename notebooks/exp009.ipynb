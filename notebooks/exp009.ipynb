{
 "cells": [
  {
   "cell_type": "code",
   "execution_count": 1,
   "id": "a4018223-b04f-4b24-aa9e-ea932fd1ef92",
   "metadata": {},
   "outputs": [],
   "source": [
    "import numpy as np\n",
    "import pandas as pd\n",
    "\n",
    "\n",
    "run_name = \"exp009\""
   ]
  },
  {
   "cell_type": "code",
   "execution_count": 2,
   "id": "8dac4f1b-b4c9-4b81-9f11-854bc54728ed",
   "metadata": {},
   "outputs": [
    {
     "data": {
      "text/html": [
       "<div>\n",
       "<style scoped>\n",
       "    .dataframe tbody tr th:only-of-type {\n",
       "        vertical-align: middle;\n",
       "    }\n",
       "\n",
       "    .dataframe tbody tr th {\n",
       "        vertical-align: top;\n",
       "    }\n",
       "\n",
       "    .dataframe thead th {\n",
       "        text-align: right;\n",
       "    }\n",
       "</style>\n",
       "<table border=\"1\" class=\"dataframe\">\n",
       "  <thead>\n",
       "    <tr style=\"text-align: right;\">\n",
       "      <th></th>\n",
       "      <th>target</th>\n",
       "      <th>target</th>\n",
       "    </tr>\n",
       "  </thead>\n",
       "  <tbody>\n",
       "    <tr>\n",
       "      <th>target</th>\n",
       "      <td>1.000000</td>\n",
       "      <td>0.950187</td>\n",
       "    </tr>\n",
       "    <tr>\n",
       "      <th>target</th>\n",
       "      <td>0.950187</td>\n",
       "      <td>1.000000</td>\n",
       "    </tr>\n",
       "  </tbody>\n",
       "</table>\n",
       "</div>"
      ],
      "text/plain": [
       "          target    target\n",
       "target  1.000000  0.950187\n",
       "target  0.950187  1.000000"
      ]
     },
     "execution_count": 2,
     "metadata": {},
     "output_type": "execute_result"
    }
   ],
   "source": [
    "df_exp005 = pd.read_csv(\"../output/submission/submission_exp005.csv\")\n",
    "df_exp008 = pd.read_csv(\"../output/submission/submission_exp008.csv\")\n",
    "\n",
    "pd.concat((df_exp005, df_exp008), axis=1).corr()"
   ]
  },
  {
   "cell_type": "code",
   "execution_count": 3,
   "id": "d25279f5-e73d-45c7-8c28-36b537b0ee3e",
   "metadata": {},
   "outputs": [],
   "source": [
    "df_sub = np.clip((df_exp005 + df_exp008) / 2, 0, 3)\n",
    "df_sub.to_csv(f\"../output/submission/submission_{run_name}.csv\", index=False)"
   ]
  },
  {
   "cell_type": "code",
   "execution_count": null,
   "id": "347d5873-e530-4236-bab3-09747af786b6",
   "metadata": {},
   "outputs": [],
   "source": []
  }
 ],
 "metadata": {
  "kernelspec": {
   "display_name": "Python 3",
   "language": "python",
   "name": "python3"
  },
  "language_info": {
   "codemirror_mode": {
    "name": "ipython",
    "version": 3
   },
   "file_extension": ".py",
   "mimetype": "text/x-python",
   "name": "python",
   "nbconvert_exporter": "python",
   "pygments_lexer": "ipython3",
   "version": "3.8.0"
  }
 },
 "nbformat": 4,
 "nbformat_minor": 5
}
